{
 "cells": [
  {
   "cell_type": "markdown",
   "metadata": {},
   "source": [
    "# Podemos utilizar esse macete abaixo para importar classes via string\n",
    "\n",
    "Isso irá desacoplar o código, e sempre procurar por esse parametro de classe para ser instânciada"
   ]
  },
  {
   "cell_type": "code",
   "execution_count": 1,
   "metadata": {},
   "outputs": [],
   "source": [
    "class ClassDynamic:\n",
    "    def __init__(self):\n",
    "        print(f\"{self.__class__.__name__} -> Fui Corretamente importada!\")\n",
    "        \n",
    "        \n",
    "class OtherClassDynamic:\n",
    "    def __init__(self):\n",
    "        print(f\"{self.__class__.__name__} -> Fui Corretamente importada!\")\n",
    "        \n",
    "\n",
    "class OtherClass:\n",
    "    def __init__(self):\n",
    "        print(f\"{self.__class__.__name__} -> Não fui chamada neste role!\")"
   ]
  },
  {
   "cell_type": "code",
   "execution_count": 2,
   "metadata": {},
   "outputs": [],
   "source": [
    "classes_str = [cls for cls in dir() if cls.endswith(\"Dynamic\")]\n",
    "module = __import__(__name__)\n",
    "classes = [getattr(module, class_name) for class_name in classes_str]"
   ]
  },
  {
   "cell_type": "code",
   "execution_count": 3,
   "metadata": {},
   "outputs": [
    {
     "name": "stdout",
     "output_type": "stream",
     "text": [
      "ClassDynamic -> Fui Corretamente importada!\n",
      "OtherClassDynamic -> Fui Corretamente importada!\n"
     ]
    }
   ],
   "source": [
    "for cls in classes:\n",
    "    cls()"
   ]
  }
 ],
 "metadata": {
  "kernelspec": {
   "display_name": "Python 3",
   "language": "python",
   "name": "python3"
  },
  "language_info": {
   "codemirror_mode": {
    "name": "ipython",
    "version": 3
   },
   "file_extension": ".py",
   "mimetype": "text/x-python",
   "name": "python",
   "nbconvert_exporter": "python",
   "pygments_lexer": "ipython3",
   "version": "3.8.2"
  }
 },
 "nbformat": 4,
 "nbformat_minor": 4
}
