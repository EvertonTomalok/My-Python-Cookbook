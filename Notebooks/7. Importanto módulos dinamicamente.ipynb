{
 "cells": [
  {
   "cell_type": "markdown",
   "metadata": {},
   "source": [
    "# Podemos utilizar esse macete abaixo para importar classes via string\n",
    "\n",
    "Isso irá desacoplar o código, e sempre procurar por esse parametro de classe para ser instânciada"
   ]
  },
  {
   "cell_type": "code",
   "execution_count": 1,
   "metadata": {},
   "outputs": [],
   "source": [
    "class BaseDynamic:\n",
    "    def __repr__(self):\n",
    "        return self.__class__.__name__\n",
    "\n",
    "class ClassDynamic(BaseDynamic):\n",
    "    def __init__(self):\n",
    "        super().__init__()\n",
    "        print(f\"{self.__class__.__name__} -> Fui Corretamente importada!\")\n",
    "        \n",
    "        \n",
    "class OtherClassDynamic(BaseDynamic):\n",
    "    def __init__(self):\n",
    "        super().__init__()\n",
    "        print(f\"{self.__class__.__name__} -> Fui Corretamente importada!\")\n",
    "        \n",
    "\n",
    "class OtherClass:\n",
    "    def __init__(self):\n",
    "        print(f\"{self.__class__.__name__} -> Não fui chamada neste role!\")"
   ]
  },
  {
   "cell_type": "markdown",
   "metadata": {},
   "source": [
    "# Através do inspect"
   ]
  },
  {
   "cell_type": "code",
   "execution_count": 2,
   "metadata": {
    "scrolled": true
   },
   "outputs": [
    {
     "data": {
      "text/plain": [
       "[__main__.BaseDynamic,\n",
       " __main__.ClassDynamic,\n",
       " __main__.OtherClassDynamic,\n",
       " __main__.OtherClass]"
      ]
     },
     "execution_count": 2,
     "metadata": {},
     "output_type": "execute_result"
    }
   ],
   "source": [
    "import inspect\n",
    "\n",
    "klass = [\n",
    "    globals().get(key) for key in globals().keys() \n",
    "    if inspect.isclass(globals().get(key))\n",
    "]\n",
    "\n",
    "klass\n"
   ]
  },
  {
   "cell_type": "code",
   "execution_count": 3,
   "metadata": {},
   "outputs": [],
   "source": [
    "# Filtrando para rodar somente classes determinadas"
   ]
  },
  {
   "cell_type": "code",
   "execution_count": 4,
   "metadata": {},
   "outputs": [
    {
     "name": "stdout",
     "output_type": "stream",
     "text": [
      "ClassDynamic -> Fui Corretamente importada!\n",
      "OtherClassDynamic -> Fui Corretamente importada!\n"
     ]
    }
   ],
   "source": [
    "filtered_classes = [\n",
    "    globals().get(key) for key in globals().keys() \n",
    "    if inspect.isclass(globals().get(key))\n",
    "    and issubclass(globals().get(key), BaseDynamic)\n",
    "]\n",
    "\n",
    "for cls in filtered_classes:\n",
    "    cls()"
   ]
  },
  {
   "cell_type": "markdown",
   "metadata": {},
   "source": [
    "# Atraves do import"
   ]
  },
  {
   "cell_type": "code",
   "execution_count": 5,
   "metadata": {},
   "outputs": [],
   "source": [
    "classes_str = [cls for cls in dir() if cls.endswith(\"Dynamic\")]\n",
    "module = __import__(__name__)\n",
    "classes = [getattr(module, class_name) for class_name in classes_str]"
   ]
  },
  {
   "cell_type": "code",
   "execution_count": 6,
   "metadata": {},
   "outputs": [
    {
     "name": "stdout",
     "output_type": "stream",
     "text": [
      "ClassDynamic -> Fui Corretamente importada!\n",
      "OtherClassDynamic -> Fui Corretamente importada!\n"
     ]
    }
   ],
   "source": [
    "for cls in classes:\n",
    "    cls()"
   ]
  },
  {
   "cell_type": "markdown",
   "metadata": {},
   "source": [
    "# Através do __subclasses__"
   ]
  },
  {
   "cell_type": "code",
   "execution_count": 7,
   "metadata": {},
   "outputs": [
    {
     "data": {
      "text/plain": [
       "[__main__.ClassDynamic, __main__.OtherClassDynamic]"
      ]
     },
     "execution_count": 7,
     "metadata": {},
     "output_type": "execute_result"
    }
   ],
   "source": [
    "BaseDynamic.__subclasses__()"
   ]
  },
  {
   "cell_type": "code",
   "execution_count": 8,
   "metadata": {},
   "outputs": [
    {
     "name": "stdout",
     "output_type": "stream",
     "text": [
      "ClassDynamic -> Fui Corretamente importada!\n",
      "OtherClassDynamic -> Fui Corretamente importada!\n"
     ]
    }
   ],
   "source": [
    "for cls in BaseDynamic.__subclasses__():\n",
    "    cls()"
   ]
  }
 ],
 "metadata": {
  "kernelspec": {
   "display_name": "Python 3",
   "language": "python",
   "name": "python3"
  },
  "language_info": {
   "codemirror_mode": {
    "name": "ipython",
    "version": 3
   },
   "file_extension": ".py",
   "mimetype": "text/x-python",
   "name": "python",
   "nbconvert_exporter": "python",
   "pygments_lexer": "ipython3",
   "version": "3.8.2"
  }
 },
 "nbformat": 4,
 "nbformat_minor": 4
}
