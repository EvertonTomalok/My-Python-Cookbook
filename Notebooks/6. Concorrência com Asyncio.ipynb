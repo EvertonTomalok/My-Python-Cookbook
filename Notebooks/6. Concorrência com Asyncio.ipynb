{
 "cells": [
  {
   "cell_type": "markdown",
   "metadata": {},
   "source": [
    "# Native Coroutines\n",
    "\n",
    "\n",
    "São funções declaradas com a palavra reservada `async` e a função pode receber valores externos através do `await`\n"
   ]
  },
  {
   "cell_type": "code",
   "execution_count": 1,
   "metadata": {},
   "outputs": [],
   "source": [
    "import nest_asyncio\n",
    "\n",
    "nest_asyncio.apply()"
   ]
  },
  {
   "cell_type": "code",
   "execution_count": 2,
   "metadata": {},
   "outputs": [
    {
     "data": {
      "text/plain": [
       "<Task pending name='Task-1' coro=<coro() running at <ipython-input-2-e4c2ab5b6921>:4>>"
      ]
     },
     "execution_count": 2,
     "metadata": {},
     "output_type": "execute_result"
    }
   ],
   "source": [
    "import asyncio\n",
    "\n",
    "\n",
    "async def coro():\n",
    "    print(\"Starting\")\n",
    "    await asyncio.sleep(1)\n",
    "    print(\"Ended\")\n",
    "    \n",
    "\n",
    "asyncio.ensure_future(coro())"
   ]
  },
  {
   "cell_type": "code",
   "execution_count": 3,
   "metadata": {},
   "outputs": [
    {
     "name": "stdout",
     "output_type": "stream",
     "text": [
      "Starting\n",
      "started at 21:37:37\n",
      "Ended\n",
      "hello\n",
      "world\n",
      "finished at 21:37:40\n"
     ]
    }
   ],
   "source": [
    "import asyncio\n",
    "import time\n",
    "\n",
    "async def say_after(delay, what):\n",
    "    await asyncio.sleep(delay)\n",
    "    print(what)\n",
    "\n",
    "async def main():\n",
    "    print(f\"started at {time.strftime('%X')}\")\n",
    "\n",
    "    await say_after(1, 'hello')\n",
    "    await say_after(2, 'world')\n",
    "\n",
    "    print(f\"finished at {time.strftime('%X')}\")\n",
    "\n",
    "await main()"
   ]
  },
  {
   "cell_type": "code",
   "execution_count": 4,
   "metadata": {},
   "outputs": [
    {
     "name": "stdout",
     "output_type": "stream",
     "text": [
      "started at 21:37:40\n",
      "hello\n",
      "world\n",
      "finished at 21:37:43\n"
     ]
    }
   ],
   "source": [
    "import asyncio\n",
    "import time\n",
    "\n",
    "async def say_after(delay, what):\n",
    "    await asyncio.sleep(delay)\n",
    "    print(what)\n",
    "\n",
    "async def main():\n",
    "    print(f\"started at {time.strftime('%X')}\")\n",
    "\n",
    "    await say_after(1, 'hello')\n",
    "    await say_after(2, 'world')\n",
    "\n",
    "    print(f\"finished at {time.strftime('%X')}\")\n",
    "\n",
    "\n",
    "asyncio.run(main())"
   ]
  },
  {
   "cell_type": "markdown",
   "metadata": {},
   "source": [
    "# Gather\n",
    "\n",
    "Rodando várias tasks assíncronas"
   ]
  },
  {
   "cell_type": "code",
   "execution_count": 5,
   "metadata": {},
   "outputs": [
    {
     "name": "stdout",
     "output_type": "stream",
     "text": [
      "One\n",
      "One\n",
      "One\n",
      "One\n",
      "One\n",
      "Two\n",
      "Two\n",
      "Two\n",
      "Three\n",
      "Three\n",
      "Two\n",
      "Two\n",
      "Three\n",
      "Three\n",
      "Three\n",
      "Program executed in 7.01 seconds.\n"
     ]
    }
   ],
   "source": [
    "import asyncio\n",
    "import time\n",
    "import random\n",
    "\n",
    "\n",
    "async def count():\n",
    "    print(\"One\")\n",
    "    await asyncio.sleep(random.randint(1,5))\n",
    "    print(\"Two\")\n",
    "    await asyncio.sleep(random.randint(1,2))\n",
    "    print(\"Three\")\n",
    "\n",
    "\n",
    "async def main():\n",
    "    WORKERS = 5\n",
    "    functions = [count() for i in range(WORKERS)]\n",
    "    await asyncio.gather(*functions)\n",
    "\n",
    "\n",
    "s = time.perf_counter()\n",
    "await main()\n",
    "elapsed = time.perf_counter() - s\n",
    "print(f\"Program executed in {elapsed:0.2f} seconds.\")"
   ]
  },
  {
   "cell_type": "markdown",
   "metadata": {},
   "source": [
    "# Threading\n",
    "\n",
    "É possível delegar também a outras threads para realizarem o paralelismo"
   ]
  },
  {
   "cell_type": "code",
   "execution_count": 6,
   "metadata": {},
   "outputs": [
    {
     "name": "stdout",
     "output_type": "stream",
     "text": [
      "\n",
      "Starting  0\n",
      "\n",
      "Starting  1\n",
      "Starting  2\n",
      "\n",
      "\n",
      "Starting  3\n",
      "Is event loop running in thread Thread-4 = False\n",
      "\n",
      "Starting  4\n",
      "Is event loop running in thread Thread-8 = False\n",
      "\n",
      "Is event loop running in thread Thread-7 = False\n",
      "Is event loop running in thread Thread-5 = False\n",
      "\n",
      "\n",
      "\n",
      "Is event loop running in thread Thread-6 = False\n",
      "\n",
      "\n",
      "Stoping  3\n",
      "\n",
      "Stoping  2\n",
      "\n",
      "Stoping  1\n",
      "\n",
      "Stoping \n",
      "Stoping  0\n",
      " 4\n"
     ]
    }
   ],
   "source": [
    "import asyncio, random\n",
    "from threading import Thread\n",
    "from threading import current_thread\n",
    "\n",
    "\n",
    "async def do_something_important(sleep_for):\n",
    "    print(\"Is event loop running in thread {0} = {1}\\n\".format(current_thread().getName(),\n",
    "                                                         asyncio.get_event_loop().is_running()))\n",
    " \n",
    "    await asyncio.sleep(sleep_for)\n",
    "\n",
    "\n",
    "def launch_event_loops(thread_num):\n",
    "    print(\"\\nStarting \", thread_num)\n",
    "    # get a new event loop\n",
    "    loop = asyncio.new_event_loop()\n",
    " \n",
    "    # set the event loop for the current thread\n",
    "    asyncio.set_event_loop(loop)\n",
    " \n",
    "    # run a coroutine on the event loop\n",
    "    loop.run_until_complete(do_something_important(random.randint(1, 5)))\n",
    " \n",
    "    # remember to close the loop\n",
    "    loop.close()\n",
    "    print(\"\\nStoping \", thread_num)\n",
    " \n",
    " \n",
    "if __name__ == \"__main__\":\n",
    "    \n",
    "    \n",
    "    for i in range(5):\n",
    "        t = Thread(target=launch_event_loops, args=[i])\n",
    "        t.start()\n"
   ]
  }
 ],
 "metadata": {
  "kernelspec": {
   "display_name": "Python 3",
   "language": "python",
   "name": "python3"
  },
  "language_info": {
   "codemirror_mode": {
    "name": "ipython",
    "version": 3
   },
   "file_extension": ".py",
   "mimetype": "text/x-python",
   "name": "python",
   "nbconvert_exporter": "python",
   "pygments_lexer": "ipython3",
   "version": "3.8.2"
  }
 },
 "nbformat": 4,
 "nbformat_minor": 4
}
