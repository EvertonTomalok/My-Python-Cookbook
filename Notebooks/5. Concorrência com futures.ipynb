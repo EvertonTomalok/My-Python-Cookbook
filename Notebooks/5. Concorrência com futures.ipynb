{
 "cells": [
  {
   "cell_type": "code",
   "execution_count": 1,
   "metadata": {},
   "outputs": [],
   "source": [
    "from time import sleep, time\n",
    "from random import random\n",
    "\n",
    "\n",
    "def just_sleep(*args):\n",
    "    t0 = time()\n",
    "    sleep(random() * 2)\n",
    "    t_end = time() - t0\n",
    "    print(f\"Slept during {t_end}\")\n",
    "    return t_end\n",
    "\n",
    "\n",
    "def just_sleep_args(num):\n",
    "    t0 = time()\n",
    "    sleep(random() * 2)\n",
    "    t_end = time() - t0\n",
    "    return t_end\n"
   ]
  },
  {
   "cell_type": "code",
   "execution_count": 2,
   "metadata": {},
   "outputs": [
    {
     "name": "stdout",
     "output_type": "stream",
     "text": [
      "Slept during 0.19660091400146484\n",
      "0.19660091400146484\n",
      "Slept during 1.88997483253479\n",
      "1.88997483253479\n",
      "Slept during 1.925166130065918\n",
      "1.925166130065918\n",
      "Slept during 0.7239799499511719\n",
      "0.7239799499511719\n",
      "Slept during 1.504453182220459\n",
      "1.504453182220459\n",
      "Levou 6.24 s para processar tudo!\n"
     ]
    }
   ],
   "source": [
    "def simple_func(*args):\n",
    "    yield from (just_sleep() for i in range(5))\n",
    "\n",
    "all_time = 0 \n",
    "for t in simple_func():\n",
    "    print(t)\n",
    "    all_time += t\n",
    "    \n",
    "print(\"Levou {:0.2f} s para processar tudo!\".format(all_time))"
   ]
  },
  {
   "cell_type": "code",
   "execution_count": 3,
   "metadata": {},
   "outputs": [
    {
     "name": "stdout",
     "output_type": "stream",
     "text": [
      "Slept during 0.044912099838256836\n",
      "Slept during 0.4794282913208008\n",
      "Slept during 1.148775339126587\n",
      "Slept during 1.3023972511291504\n",
      "Slept during 1.434877872467041\n",
      "Levou 1.44 s para processar tudo!\n"
     ]
    }
   ],
   "source": [
    "from concurrent import futures\n",
    "\n",
    "workers = 5\n",
    "\n",
    "t0 = time()\n",
    "\n",
    "with futures.ThreadPoolExecutor(workers) as executor:\n",
    "    executor.map(just_sleep, range(5))\n",
    "\n",
    "print(\"Levou {:0.2f} s para processar tudo!\".format(time() - t0))"
   ]
  },
  {
   "cell_type": "code",
   "execution_count": 4,
   "metadata": {},
   "outputs": [
    {
     "name": "stdout",
     "output_type": "stream",
     "text": [
      "1 - 0.0618443489074707 s\n",
      "5 - 0.0020513534545898438 s\n",
      "0 - 0.6090669631958008 s\n",
      "6 - 0.5917031764984131 s\n",
      "7 - 0.07270121574401855 s\n",
      "2 - 0.748725175857544 s\n",
      "3 - 1.2206974029541016 s\n",
      "4 - 1.4667816162109375 s\n",
      "9 - 0.9615681171417236 s\n",
      "10 - 1.2235071659088135 s\n",
      "8 - 1.5373668670654297 s\n",
      "14 - 0.41595911979675293 s\n",
      "12 - 1.1429660320281982 s\n",
      "13 - 0.9731230735778809 s\n",
      "11 - 1.508103370666504 s\n"
     ]
    }
   ],
   "source": [
    "with futures.ThreadPoolExecutor(max_workers=5) as executor:\n",
    "    future_to = {\n",
    "        executor.submit(just_sleep_args, i): i \n",
    "        for i in range(15)\n",
    "    }\n",
    "    for future in futures.as_completed(future_to):\n",
    "        num = future_to[future]\n",
    "        try:\n",
    "            took = future.result()\n",
    "        except Exception as exc:\n",
    "            print('%r generated an exception: %s' % (num, exc))\n",
    "        else:\n",
    "            print(f\"{num} - {took} s\")"
   ]
  }
 ],
 "metadata": {
  "kernelspec": {
   "display_name": "Python 3",
   "language": "python",
   "name": "python3"
  },
  "language_info": {
   "codemirror_mode": {
    "name": "ipython",
    "version": 3
   },
   "file_extension": ".py",
   "mimetype": "text/x-python",
   "name": "python",
   "nbconvert_exporter": "python",
   "pygments_lexer": "ipython3",
   "version": "3.8.2"
  }
 },
 "nbformat": 4,
 "nbformat_minor": 4
}
