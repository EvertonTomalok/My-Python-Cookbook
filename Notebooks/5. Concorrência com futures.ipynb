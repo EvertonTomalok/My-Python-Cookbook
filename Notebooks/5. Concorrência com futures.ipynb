{
 "cells": [
  {
   "cell_type": "code",
   "execution_count": 1,
   "metadata": {},
   "outputs": [],
   "source": [
    "from time import sleep, time\n",
    "from random import random\n",
    "\n",
    "\n",
    "def just_sleep(*args):\n",
    "    t0 = time()\n",
    "    sleep(random() * 2)\n",
    "    t_end = time() - t0\n",
    "    print(f\"Slept during {t_end}\")\n",
    "    return t_end\n"
   ]
  },
  {
   "cell_type": "code",
   "execution_count": 2,
   "metadata": {},
   "outputs": [
    {
     "name": "stdout",
     "output_type": "stream",
     "text": [
      "Slept during 1.9256477355957031\n",
      "1.9256477355957031\n",
      "Slept during 0.6465539932250977\n",
      "0.6465539932250977\n",
      "Slept during 0.7217135429382324\n",
      "0.7217135429382324\n",
      "Slept during 1.469616174697876\n",
      "1.469616174697876\n",
      "Slept during 1.9918980598449707\n",
      "1.9918980598449707\n",
      "Levou 6.76 s para processar tudo!\n"
     ]
    }
   ],
   "source": [
    "def simple_func(*args):\n",
    "    yield from (just_sleep() for i in range(5))\n",
    "\n",
    "all_time = 0 \n",
    "for t in simple_func():\n",
    "    print(t)\n",
    "    all_time += t\n",
    "    \n",
    "print(\"Levou {:0.2f} s para processar tudo!\".format(all_time))"
   ]
  },
  {
   "cell_type": "code",
   "execution_count": 5,
   "metadata": {},
   "outputs": [
    {
     "name": "stdout",
     "output_type": "stream",
     "text": [
      "Slept during 0.37503576278686523\n",
      "Slept during 0.5324938297271729\n",
      "Slept during 1.2343063354492188\n",
      "Slept during 1.4587359428405762\n",
      "Slept during 1.6265432834625244\n",
      "Levou 1.63 s para processar tudo!\n"
     ]
    }
   ],
   "source": [
    "from concurrent import futures\n",
    "\n",
    "workers = 5\n",
    "\n",
    "t0 = time()\n",
    "\n",
    "with futures.ThreadPoolExecutor(workers) as executor:\n",
    "    executor.map(just_sleep, range(5))\n",
    "\n",
    "print(\"Levou {:0.2f} s para processar tudo!\".format(time() - t0))"
   ]
  }
 ],
 "metadata": {
  "kernelspec": {
   "display_name": "Python 3",
   "language": "python",
   "name": "python3"
  },
  "language_info": {
   "codemirror_mode": {
    "name": "ipython",
    "version": 3
   },
   "file_extension": ".py",
   "mimetype": "text/x-python",
   "name": "python",
   "nbconvert_exporter": "python",
   "pygments_lexer": "ipython3",
   "version": "3.8.2"
  }
 },
 "nbformat": 4,
 "nbformat_minor": 4
}
