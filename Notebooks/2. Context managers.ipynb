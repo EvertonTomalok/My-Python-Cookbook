{
 "cells": [
  {
   "cell_type": "markdown",
   "metadata": {},
   "source": [
    "# Context marnager\n",
    "\n",
    "Esse mecanismo de controle de fluxo, é usado pela palavra reservada `with`.\n",
    "\n",
    "Este cria um contexto temporário e desfaz isto de modo confiável quando não mais utilizado.\n",
    "\n",
    "Um exemplo é a função bultin `open`\n",
    "\n",
    "```\n",
    "with open(\"file.txt\", \"r\") as fp:\n",
    "\n",
    "    # algum código\n",
    "    # o with assegura que o arquivo seja fechado quando não mais utilizado\n",
    "```"
   ]
  },
  {
   "cell_type": "code",
   "execution_count": 1,
   "metadata": {},
   "outputs": [],
   "source": [
    "class InvertText:\n",
    "    def __init__(self, text):\n",
    "        self.text = text\n",
    "        \n",
    "    def __enter__(self):\n",
    "        return self\n",
    "    \n",
    "    def reverse_write(self):\n",
    "        t = self.text[::-1]\n",
    "        return t\n",
    "    \n",
    "    def p(self):\n",
    "        print(\"123\")\n",
    "    \n",
    "    def __exit__(self, exc_type, exc_value, traceback):\n",
    "        # Fechar o que foi aberto ou garantir que as tasks sejam executadas\n",
    "        # antes do término\n",
    "        return "
   ]
  },
  {
   "cell_type": "code",
   "execution_count": 2,
   "metadata": {},
   "outputs": [
    {
     "name": "stdout",
     "output_type": "stream",
     "text": [
      "123\n",
      "txet\n"
     ]
    }
   ],
   "source": [
    "with InvertText(\"text\") as example:\n",
    "    text_reversed = example.reverse_write()\n",
    "    example.p()\n",
    "print(text_reversed)"
   ]
  },
  {
   "cell_type": "markdown",
   "metadata": {},
   "source": [
    "# contextlib\n",
    "\n",
    "É possível criar uma função gerador usando `contextlib.contextmanager`"
   ]
  },
  {
   "cell_type": "code",
   "execution_count": 3,
   "metadata": {},
   "outputs": [],
   "source": [
    "import contextlib\n",
    "import sys\n",
    "\n",
    "\n",
    "@contextlib.contextmanager\n",
    "def mirror_glass():\n",
    "    original_write = sys.stdout.write\n",
    "    \n",
    "    def reverse_text(text):\n",
    "        original_write(text[::-1])\n",
    "        \n",
    "    def count():\n",
    "        return list(range(5))\n",
    "        \n",
    "    sys.stdout.write = reverse_text # inverte\n",
    "    \n",
    "    yield count\n",
    "    \n",
    "    sys.stdout.write = original_write # ao sair do with, retorna o stdout para o normal"
   ]
  },
  {
   "cell_type": "code",
   "execution_count": 4,
   "metadata": {},
   "outputs": [
    {
     "name": "stdout",
     "output_type": "stream",
     "text": [
      "aditrevni áres esarf atsE\n",
      "\n",
      "O texto voltou ao normal.\n",
      "[0, 1, 2, 3, 4]\n"
     ]
    }
   ],
   "source": [
    "with mirror_glass() as count_yield:\n",
    "    print(\"Esta frase será invertida\")\n",
    "    count_list = count_yield()\n",
    "    \n",
    "print(\"\\nO texto voltou ao normal.\")\n",
    "print(count_list)"
   ]
  }
 ],
 "metadata": {
  "kernelspec": {
   "display_name": "Python 3",
   "language": "python",
   "name": "python3"
  },
  "language_info": {
   "codemirror_mode": {
    "name": "ipython",
    "version": 3
   },
   "file_extension": ".py",
   "mimetype": "text/x-python",
   "name": "python",
   "nbconvert_exporter": "python",
   "pygments_lexer": "ipython3",
   "version": "3.8.2"
  }
 },
 "nbformat": 4,
 "nbformat_minor": 4
}
