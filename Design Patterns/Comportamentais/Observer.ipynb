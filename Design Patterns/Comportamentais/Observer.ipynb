{
 "cells": [
  {
   "cell_type": "markdown",
   "metadata": {},
   "source": [
    "# Observer\n",
    "O padrão observer nos permite passar uma lista de observadores, interessados pela criação de um objeto, para uma classe, e iterar sobre ela para rodar todos os observadores.\n",
    "\n",
    "Assim, caso tenhamos um novo observador, basta incluí-lo na lista de observadores.\n",
    "\n",
    "## Quando usar?\n",
    "Quando o acoplamento da nossa classe está crescendo, ou quando temos diversas ações diferentes a serem executadas após um determinado processo. Nestes casos, podemos implementar o Observer.\n",
    "\n",
    "Ele permite que diversas ações sejam executadas de forma transparente à classe principal, reduzindo o acoplamento entre essas ações, facilitando a manutenção e evolução do código."
   ]
  },
  {
   "cell_type": "code",
   "execution_count": 1,
   "metadata": {},
   "outputs": [],
   "source": [
    "class Event:\n",
    "    def __init__(self, name):\n",
    "        self.__name = name\n",
    "        \n",
    "    @property\n",
    "    def name(self):\n",
    "        return self.__name\n",
    "\n",
    "\n",
    "class Subscriber:\n",
    "    def __init__(self, name):\n",
    "        self.__name = name\n",
    "        \n",
    "    @property\n",
    "    def name(self):\n",
    "        return self.__name\n",
    "\n",
    "    def update(self, message):\n",
    "        print('{} got message \"{}\"'.format(self.name, message))\n",
    "\n",
    "\n",
    "class Publisher:\n",
    "    def __init__(self, events):\n",
    "        self.events = { event.name: {} for event in events }\n",
    "        \n",
    "    def get_subscribers(self, event):\n",
    "        return self.events[event.name]\n",
    "    \n",
    "    def register(self, event: Event, who, callback=None):\n",
    "        if not callback:\n",
    "            callback = getattr(who, 'update')\n",
    "        self.get_subscribers(event)[who] = callback\n",
    "    \n",
    "    def unregister(self, event: Event, who):\n",
    "        print(f\"{who.name} is no more receiving messages about {event.name}\")\n",
    "        del self.get_subscribers(event)[who]\n",
    "    \n",
    "    def dispatch(self, event: Event, message):\n",
    "        for subscriber, callback in self.get_subscribers(event).items():\n",
    "            callback(message)"
   ]
  },
  {
   "cell_type": "code",
   "execution_count": 2,
   "metadata": {},
   "outputs": [
    {
     "name": "stdout",
     "output_type": "stream",
     "text": [
      "Bob got message \"It's lunchtime!\"\n",
      "John got message \"It's lunchtime!\"\n",
      "Alice got message \"Dinner is served\"\n",
      "John got message \"Dinner is served\"\n"
     ]
    }
   ],
   "source": [
    "lunch = Event(\"lunch\")\n",
    "dinner = Event(\"dinner\")\n",
    "\n",
    "bob = Subscriber('Bob')\n",
    "alice = Subscriber('Alice')\n",
    "john = Subscriber('John')\n",
    "\n",
    "pub = Publisher([lunch, dinner])\n",
    "pub.register(lunch, bob)\n",
    "pub.register(lunch, john)\n",
    "pub.register(dinner, alice)\n",
    "pub.register(dinner, john)\n",
    "\n",
    "pub.dispatch(lunch, \"It's lunchtime!\")\n",
    "pub.dispatch(dinner, \"Dinner is served\")"
   ]
  },
  {
   "cell_type": "code",
   "execution_count": 3,
   "metadata": {},
   "outputs": [
    {
     "name": "stdout",
     "output_type": "stream",
     "text": [
      "John is no more receiving messages about dinner\n"
     ]
    }
   ],
   "source": [
    "pub.unregister(dinner, john)"
   ]
  },
  {
   "cell_type": "code",
   "execution_count": 4,
   "metadata": {},
   "outputs": [
    {
     "name": "stdout",
     "output_type": "stream",
     "text": [
      "Bob got message \"It's lunchtime!\"\n",
      "John got message \"It's lunchtime!\"\n",
      "Alice got message \"Dinner is served\"\n"
     ]
    }
   ],
   "source": [
    "pub.dispatch(lunch, \"It's lunchtime!\")\n",
    "pub.dispatch(dinner, \"Dinner is served\")"
   ]
  },
  {
   "cell_type": "code",
   "execution_count": 5,
   "metadata": {},
   "outputs": [
    {
     "name": "stdout",
     "output_type": "stream",
     "text": [
      "Bob got message \"New England Patriots won the game!\"\n",
      "John got message \"New England Patriots won the game!\"\n",
      "Bob got message \"Barcelona is trying to hire Neymar!\"\n",
      "John got message \"Barcelona is trying to hire Neymar!\"\n",
      "Alice got message \"A nice movie was announced.\"\n"
     ]
    }
   ],
   "source": [
    "nfl = Event(\"nfl\")\n",
    "soccer = Event(\"soccer\")\n",
    "movie = Event(\"movie\")\n",
    "\n",
    "\n",
    "bob = Subscriber('Bob')\n",
    "alice = Subscriber('Alice')\n",
    "john = Subscriber('John')\n",
    "\n",
    "publisher = Publisher([nfl, soccer, movie])\n",
    "publisher.register(nfl, bob)\n",
    "publisher.register(nfl, john)\n",
    "publisher.register(soccer, bob)\n",
    "publisher.register(soccer, john)\n",
    "publisher.register(movie, alice)\n",
    "\n",
    "publisher.dispatch(nfl, \"New England Patriots won the game!\")\n",
    "publisher.dispatch(soccer, \"Barcelona is trying to hire Neymar!\")\n",
    "publisher.dispatch(movie, \"A nice movie was announced.\")"
   ]
  },
  {
   "cell_type": "code",
   "execution_count": 6,
   "metadata": {},
   "outputs": [
    {
     "name": "stdout",
     "output_type": "stream",
     "text": [
      "John is no more receiving messages about nfl\n"
     ]
    }
   ],
   "source": [
    "publisher.unregister(nfl, john)"
   ]
  },
  {
   "cell_type": "code",
   "execution_count": 7,
   "metadata": {},
   "outputs": [
    {
     "name": "stdout",
     "output_type": "stream",
     "text": [
      "Bob got message \"Baltimore Ravens are invencible!\"\n"
     ]
    }
   ],
   "source": [
    "publisher.dispatch(nfl, \"Baltimore Ravens are invencible!\")"
   ]
  }
 ],
 "metadata": {
  "kernelspec": {
   "display_name": "Python 3",
   "language": "python",
   "name": "python3"
  },
  "language_info": {
   "codemirror_mode": {
    "name": "ipython",
    "version": 3
   },
   "file_extension": ".py",
   "mimetype": "text/x-python",
   "name": "python",
   "nbconvert_exporter": "python",
   "pygments_lexer": "ipython3",
   "version": "3.8.2"
  }
 },
 "nbformat": 4,
 "nbformat_minor": 4
}
