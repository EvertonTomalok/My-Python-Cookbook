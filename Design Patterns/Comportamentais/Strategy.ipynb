{
 "cells": [
  {
   "cell_type": "markdown",
   "metadata": {},
   "source": [
    "# Padrão Strategy\n",
    "Ao utilizar este padrão podemos passar como parâmetro uma função, ou melhor, uma estratégia, para outro método.\n",
    "\n",
    "Isso permite remover vários comandos condicionais, uma vez que não precisamos verificar manualmente qual foi a estratégia passada como parâmetro.\n",
    "\n",
    "Nota: diferença entre função e método: um método pertence a uma classe e uma função não pertence necessariamente a uma classe.\n",
    "\n",
    "**Duck typing:** é um estilo de tipagem em que os métodos e propriedades de um objeto determinam a semântica válida, em vez de sua herança de uma classe particular ou implementação de uma interface explicita. Não importa a instância que passamos, contanto que ela tenha o método calcula.\n",
    "\n",
    "## Quando usar?\n",
    "O padrão Strategy é muito útil quando temos um conjunto de algoritmos similares, e precisamos alternar entre eles em diferentes pedaços da aplicação. O Strategy nos oferece uma maneira flexível para escrever diversos algoritmos diferentes, e de passar esses algoritmos para classes clientes que precisam deles. Esses clientes desconhecem qual é o algoritmo \"real\" que está sendo executado, e apenas manda o algoritmo rodar. Isso faz com que o código da classe cliente fique bastante desacoplado das implementações dos algoritmos, possibilitando assim com que esse cliente consiga trabalhar com N diferentes algoritmos sem precisar alterar o seu código.\n",
    "\n",
    "\n",
    "### Utilize o padrão Strategy quando você quer usar diferentes variantes de um algoritmo dentro de um objeto e ser capaz de trocar de um algoritmo para outro durante a execução.\n",
    "\n",
    " O padrão Strategy permite que você altere indiretamente o comportamento de um objeto durante a execução ao associá-lo com diferentes sub-objetos que pode fazer sub-tarefas específicas em diferentes formas.\n",
    "\n",
    "### Utilize o Strategy quando você tem muitas classes parecidas que somente diferem na forma que elas executam algum comportamento.\n",
    "\n",
    " O padrão Strategy permite que você extraia o comportamento variante para uma hierarquia de classe separada e combine as classes originais em uma, portando reduzindo código duplicado.\n",
    "\n",
    "### Utilize o padrão para isolar a lógica do negócio de uma classe dos detalhes de implementação de algoritmos que podem não ser tão importantes no contexto da lógica.\n",
    "\n",
    " O padrão Strategy permite que você isole o código, dados internos, e dependências de vários algoritmos do restante do código. Vários clientes podem obter uma simples interface para executar os algoritmos e trocá-los durante a execução do programa.\n",
    "\n",
    "### Utilize o padrão quando sua classe tem um operador condicional muito grande que troca entre diferentes variantes do mesmo algoritmo.\n",
    "\n",
    " O padrão Strategy permite que você se livre dessa condicional ao extrair todos os algoritmos para classes separadas, todos eles implementando a mesma interface. O objeto original delega a execução de um desses objetos, ao invés de implementar todas as variantes do algoritmo."
   ]
  },
  {
   "cell_type": "code",
   "execution_count": 1,
   "metadata": {},
   "outputs": [],
   "source": [
    "# Context\n",
    "\n",
    "class Context:\n",
    "    def calcular(self, receita, strategy):\n",
    "        return strategy.calcular(receita)\n",
    "    \n"
   ]
  },
  {
   "cell_type": "code",
   "execution_count": 2,
   "metadata": {},
   "outputs": [],
   "source": [
    "from abc import ABC, abstractmethod\n",
    "\n",
    "class Interface:\n",
    "    @abstractmethod\n",
    "    def calcular(self, receita):\n",
    "        \"\"\"Realiza algum cálculo\"\"\"\n",
    "        \n",
    "\n",
    "class Desconto(Interface):\n",
    "    def calcular(self, receita):\n",
    "        return receita.valor * 0.95\n",
    "    \n",
    "    \n",
    "class Juros(Interface):\n",
    "    def calcular(self, receita):\n",
    "        return receita.valor * 1.05"
   ]
  },
  {
   "cell_type": "code",
   "execution_count": 3,
   "metadata": {},
   "outputs": [],
   "source": [
    "class Receita:\n",
    "    def __init__(self, valor):\n",
    "        self.__valor = valor\n",
    "\n",
    "    @property\n",
    "    def valor(self):\n",
    "        return self.__valor"
   ]
  },
  {
   "cell_type": "code",
   "execution_count": 4,
   "metadata": {},
   "outputs": [],
   "source": [
    "receita = Receita(1000)\n",
    "context = Context()"
   ]
  },
  {
   "cell_type": "code",
   "execution_count": 5,
   "metadata": {},
   "outputs": [
    {
     "name": "stdout",
     "output_type": "stream",
     "text": [
      "950.0\n"
     ]
    }
   ],
   "source": [
    "# Aplicar desconto\n",
    "\n",
    "desconto = context.calcular(receita, Desconto())\n",
    "print(desconto)"
   ]
  },
  {
   "cell_type": "code",
   "execution_count": 6,
   "metadata": {},
   "outputs": [
    {
     "name": "stdout",
     "output_type": "stream",
     "text": [
      "1050.0\n"
     ]
    }
   ],
   "source": [
    "# Aplicar juros\n",
    "\n",
    "juros = context.calcular(receita, Juros())\n",
    "print(juros)"
   ]
  },
  {
   "cell_type": "markdown",
   "metadata": {},
   "source": [
    "# Simulação de uso real\n",
    "\n",
    "Esse Pattern é utilizado para códigos similares, que devem ser trocados dinamicamente.\n",
    "\n",
    "Pode reduzir os `if's` de uma condição. "
   ]
  },
  {
   "cell_type": "code",
   "execution_count": 7,
   "metadata": {},
   "outputs": [],
   "source": [
    "# exemplo\n",
    "\n",
    "# checagem se o produto é válido utilizando if's\n",
    "def produto_checker(produto):\n",
    "    is_valid = True\n",
    "    if len(produto) < 3:\n",
    "        is_valid = False\n",
    "    elif \"valor\" not in produto or \"nome\" not in produto or \"categoria\" not in produto:\n",
    "        is_valid = False\n",
    "    elif produto.get(\"valor\") > 5000:\n",
    "        is_valid = False\n",
    "    elif produto.get(\"categoria\") not in (\"eletrodomestico\", \"eletroportateis\", \"jardinagem\"):\n",
    "        is_valid = False\n",
    "        \n",
    "    return is_valid"
   ]
  },
  {
   "cell_type": "code",
   "execution_count": 8,
   "metadata": {},
   "outputs": [
    {
     "data": {
      "text/plain": [
       "True"
      ]
     },
     "execution_count": 8,
     "metadata": {},
     "output_type": "execute_result"
    }
   ],
   "source": [
    "geladeira = {\n",
    "    \"valor\": 2000,\n",
    "    \"nome\": \"geladeira\",\n",
    "    \"categoria\": \"eletrodomestico\",\n",
    "}\n",
    "\n",
    "produto_checker(geladeira)"
   ]
  },
  {
   "cell_type": "code",
   "execution_count": 9,
   "metadata": {},
   "outputs": [
    {
     "data": {
      "text/plain": [
       "False"
      ]
     },
     "execution_count": 9,
     "metadata": {},
     "output_type": "execute_result"
    }
   ],
   "source": [
    "carro = {\n",
    "    \"valor\": 50000,\n",
    "    \"nome\": \"carro\",\n",
    "    \"categoria\": \"automovel\",\n",
    "}\n",
    "\n",
    "produto_checker(carro)"
   ]
  },
  {
   "cell_type": "markdown",
   "metadata": {},
   "source": [
    "# Critica\n",
    "\n",
    "Podemos ver que o código ficou repetitivo e dificil refatoração ou inclusão de novas regras de validação.\n",
    "\n",
    "Além disso, outras melhorias de código como aplicar assíncronicidade ou outras tarefas, iriam complicar extremamente o código.\n",
    "\n",
    "\n",
    "Agora vamos utilizar o design pattern `Strategy` para refatorar o trecho de código."
   ]
  },
  {
   "cell_type": "code",
   "execution_count": 10,
   "metadata": {},
   "outputs": [],
   "source": [
    "class Produto:\n",
    "    \n",
    "    PRODUTO_ITEMS = [\"valor\", \"nome\", \"categoria\"]\n",
    "    \n",
    "    def __init__(self, nome: str, valor: int, categoria: str):\n",
    "        self.__valor = valor\n",
    "        self.__nome = nome\n",
    "        self.__categoria = categoria\n",
    "        self.__pago = None\n",
    "        \n",
    "    @property\n",
    "    def valor(self):\n",
    "        return self.__valor\n",
    "    \n",
    "    @property\n",
    "    def nome(self):\n",
    "        return self.__nome\n",
    "    \n",
    "    @property\n",
    "    def categoria(self):\n",
    "        return self.__categoria.upper()\n",
    "    \n",
    "    @property\n",
    "    def pago(self):\n",
    "        return self.__pago\n",
    "    \n",
    "    @pago.setter\n",
    "    def pago(self, new_status: bool):\n",
    "        self.__pago = new_status\n",
    "    \n",
    "    def __getattr__(self, obj):\n",
    "        if obj not in self.PRODUTO_ITEMS:\n",
    "            return None\n",
    "        \n",
    "    def __repr__(self):\n",
    "        return (\n",
    "            f\"Nome: {self.nome}\\n\"\n",
    "            f\"Valor: {self.valor}\\n\"\n",
    "            f\"Categoria: {self.categoria}\\n\"\n",
    "            f\"Pago: {self.pago}\"\n",
    "        )"
   ]
  },
  {
   "cell_type": "code",
   "execution_count": 11,
   "metadata": {},
   "outputs": [],
   "source": [
    "from abc import ABC, abstractmethod\n",
    "\n",
    "\n",
    "class Checker:\n",
    "    def check_it(self, produto, strategy):\n",
    "        return strategy.check(produto)\n",
    "    \n",
    "    \n",
    "class Interface:\n",
    "    def check(self, produto):\n",
    "        pass\n",
    "    \n",
    "\n",
    "class ProdutoNameLenCheck(Interface):\n",
    "    def check(self, produto):\n",
    "        return len(produto.nome) < 10\n",
    "    \n",
    "\n",
    "class ValorCheck(Interface):\n",
    "    def check(self, produto):\n",
    "        valor = produto.valor\n",
    "        return False if not valor else valor < 5000\n",
    "\n",
    "\n",
    "class CategoriaCheck(Interface):\n",
    "    ALLOWED_CATEGORIES = (\"ELETRODOMESTICO\", \"ELETROPORTATIL\", \"JARDINAGEM\")\n",
    "    \n",
    "    def check(self, produto):\n",
    "        return produto.categoria.upper() in self.ALLOWED_CATEGORIES\n"
   ]
  },
  {
   "cell_type": "code",
   "execution_count": 12,
   "metadata": {},
   "outputs": [
    {
     "data": {
      "text/plain": [
       "Nome: geladeira\n",
       "Valor: 2000\n",
       "Categoria: ELETRODOMESTICO\n",
       "Pago: None"
      ]
     },
     "execution_count": 12,
     "metadata": {},
     "output_type": "execute_result"
    }
   ],
   "source": [
    "produto = Produto(\"geladeira\", 2000, \"eletrodomestico\")\n",
    "produto"
   ]
  },
  {
   "cell_type": "markdown",
   "metadata": {},
   "source": [
    "# Eliminando os if's\n",
    "\n",
    "Agora o código irá chamar todas classes que herdam de interface, e chamar o método check passando o produto"
   ]
  },
  {
   "cell_type": "code",
   "execution_count": 13,
   "metadata": {},
   "outputs": [
    {
     "data": {
      "text/plain": [
       "True"
      ]
     },
     "execution_count": 13,
     "metadata": {},
     "output_type": "execute_result"
    }
   ],
   "source": [
    "ProdutoNameLenCheck().check(produto)"
   ]
  },
  {
   "cell_type": "code",
   "execution_count": 14,
   "metadata": {},
   "outputs": [
    {
     "data": {
      "text/plain": [
       "True"
      ]
     },
     "execution_count": 14,
     "metadata": {},
     "output_type": "execute_result"
    }
   ],
   "source": [
    "ValorCheck().check(produto)"
   ]
  },
  {
   "cell_type": "code",
   "execution_count": 15,
   "metadata": {},
   "outputs": [
    {
     "data": {
      "text/plain": [
       "True"
      ]
     },
     "execution_count": 15,
     "metadata": {},
     "output_type": "execute_result"
    }
   ],
   "source": [
    "CategoriaCheck().check(produto)"
   ]
  },
  {
   "cell_type": "markdown",
   "metadata": {},
   "source": [
    "# Simplificando usando o all"
   ]
  },
  {
   "cell_type": "code",
   "execution_count": 16,
   "metadata": {},
   "outputs": [
    {
     "data": {
      "text/plain": [
       "True"
      ]
     },
     "execution_count": 16,
     "metadata": {},
     "output_type": "execute_result"
    }
   ],
   "source": [
    "def check_all(product):\n",
    "    return all([checker().check(product) for checker in (ProdutoNameLenCheck, ValorCheck, CategoriaCheck)])\n",
    "\n",
    "check_all(produto)"
   ]
  },
  {
   "cell_type": "code",
   "execution_count": 17,
   "metadata": {},
   "outputs": [
    {
     "data": {
      "text/plain": [
       "Nome: furadeira\n",
       "Valor: 500\n",
       "Categoria: FERRAMENTA\n",
       "Pago: None"
      ]
     },
     "execution_count": 17,
     "metadata": {},
     "output_type": "execute_result"
    }
   ],
   "source": [
    "# Retornará falso porque ferramenta não é uma categoria válida\n",
    "\n",
    "produto2 = Produto(\"furadeira\", 500, \"ferramenta\")\n",
    "produto2"
   ]
  },
  {
   "cell_type": "code",
   "execution_count": 18,
   "metadata": {},
   "outputs": [
    {
     "data": {
      "text/plain": [
       "False"
      ]
     },
     "execution_count": 18,
     "metadata": {},
     "output_type": "execute_result"
    }
   ],
   "source": [
    "check_all(produto2)"
   ]
  },
  {
   "cell_type": "markdown",
   "metadata": {},
   "source": [
    "# Refactorando o código para torná-lo ainda mais genérico e facilitar a adição de regras"
   ]
  },
  {
   "cell_type": "code",
   "execution_count": 19,
   "metadata": {},
   "outputs": [
    {
     "data": {
      "text/plain": [
       "['CategoriaCheck', 'ProdutoNameLenCheck', 'ValorCheck']"
      ]
     },
     "execution_count": 19,
     "metadata": {},
     "output_type": "execute_result"
    }
   ],
   "source": [
    "# Filtra todas as classes sem a necessidade de passar manualmente\n",
    "# Cada nova classe será filtrada automaticamente\n",
    "\n",
    "classes_str = [cls for cls in dir() if cls.endswith(\"Check\")]\n",
    "classes_str"
   ]
  },
  {
   "cell_type": "code",
   "execution_count": 20,
   "metadata": {},
   "outputs": [
    {
     "data": {
      "text/plain": [
       "[__main__.CategoriaCheck, __main__.ProdutoNameLenCheck, __main__.ValorCheck]"
      ]
     },
     "execution_count": 20,
     "metadata": {},
     "output_type": "execute_result"
    }
   ],
   "source": [
    "# Selecionando as classes do módulo\n",
    "\n",
    "module = __import__(__name__)\n",
    "classes = [getattr(module, class_name) for class_name in classes_str]\n",
    "classes"
   ]
  },
  {
   "cell_type": "code",
   "execution_count": 21,
   "metadata": {},
   "outputs": [],
   "source": [
    "# Agora cada novo validador será adicionado automaticamente a cada execução do modulo\n",
    "\n",
    "def generic_check_all(product):\n",
    "    return all([checker().check(product) for checker in classes])"
   ]
  },
  {
   "cell_type": "code",
   "execution_count": 22,
   "metadata": {},
   "outputs": [
    {
     "data": {
      "text/plain": [
       "True"
      ]
     },
     "execution_count": 22,
     "metadata": {},
     "output_type": "execute_result"
    }
   ],
   "source": [
    "generic_check_all(produto)"
   ]
  },
  {
   "cell_type": "code",
   "execution_count": 23,
   "metadata": {},
   "outputs": [
    {
     "data": {
      "text/plain": [
       "False"
      ]
     },
     "execution_count": 23,
     "metadata": {},
     "output_type": "execute_result"
    }
   ],
   "source": [
    "generic_check_all(produto2)"
   ]
  },
  {
   "cell_type": "markdown",
   "metadata": {},
   "source": [
    "# Adicionando nova classe para provar o conceito"
   ]
  },
  {
   "cell_type": "code",
   "execution_count": 24,
   "metadata": {},
   "outputs": [],
   "source": [
    "class PagamentoCheck(Interface):    \n",
    "    def check(self, produto):\n",
    "        return produto.pago is True"
   ]
  },
  {
   "cell_type": "code",
   "execution_count": 25,
   "metadata": {},
   "outputs": [
    {
     "data": {
      "text/plain": [
       "False"
      ]
     },
     "execution_count": 25,
     "metadata": {},
     "output_type": "execute_result"
    }
   ],
   "source": [
    "PagamentoCheck().check(produto)"
   ]
  },
  {
   "cell_type": "code",
   "execution_count": 26,
   "metadata": {},
   "outputs": [
    {
     "data": {
      "text/plain": [
       "[__main__.CategoriaCheck,\n",
       " __main__.PagamentoCheck,\n",
       " __main__.ProdutoNameLenCheck,\n",
       " __main__.ValorCheck]"
      ]
     },
     "execution_count": 26,
     "metadata": {},
     "output_type": "execute_result"
    }
   ],
   "source": [
    "# Precisamos reexecutar no jupiter pois estamos ainda na mesma execução do programa\n",
    "# Em programas dinamicos, não seria necessário\n",
    "\n",
    "classes_str = [cls for cls in dir() if cls.endswith(\"Check\")]\n",
    "module = __import__(__name__)\n",
    "classes = [getattr(module, class_name) for class_name in classes_str]\n",
    "\n",
    "classes"
   ]
  },
  {
   "cell_type": "code",
   "execution_count": 27,
   "metadata": {},
   "outputs": [
    {
     "data": {
      "text/plain": [
       "False"
      ]
     },
     "execution_count": 27,
     "metadata": {},
     "output_type": "execute_result"
    }
   ],
   "source": [
    "def generic_check_all(product):\n",
    "    return all([checker().check(product) for checker in classes])\n",
    "\n",
    "# Agora produto irá falhar, pois ainda não foi pago\n",
    "generic_check_all(produto)"
   ]
  },
  {
   "cell_type": "code",
   "execution_count": 28,
   "metadata": {},
   "outputs": [
    {
     "data": {
      "text/plain": [
       "Nome: geladeira\n",
       "Valor: 2000\n",
       "Categoria: ELETRODOMESTICO\n",
       "Pago: None"
      ]
     },
     "execution_count": 28,
     "metadata": {},
     "output_type": "execute_result"
    }
   ],
   "source": [
    "produto"
   ]
  },
  {
   "cell_type": "code",
   "execution_count": 29,
   "metadata": {},
   "outputs": [
    {
     "data": {
      "text/plain": [
       "Nome: geladeira\n",
       "Valor: 2000\n",
       "Categoria: ELETRODOMESTICO\n",
       "Pago: True"
      ]
     },
     "execution_count": 29,
     "metadata": {},
     "output_type": "execute_result"
    }
   ],
   "source": [
    "# Agora vamos alterar pago para True\n",
    "produto.pago = True\n",
    "produto"
   ]
  },
  {
   "cell_type": "code",
   "execution_count": 30,
   "metadata": {},
   "outputs": [
    {
     "data": {
      "text/plain": [
       "True"
      ]
     },
     "execution_count": 30,
     "metadata": {},
     "output_type": "execute_result"
    }
   ],
   "source": [
    "generic_check_all(produto)"
   ]
  }
 ],
 "metadata": {
  "kernelspec": {
   "display_name": "Python 3",
   "language": "python",
   "name": "python3"
  },
  "language_info": {
   "codemirror_mode": {
    "name": "ipython",
    "version": 3
   },
   "file_extension": ".py",
   "mimetype": "text/x-python",
   "name": "python",
   "nbconvert_exporter": "python",
   "pygments_lexer": "ipython3",
   "version": "3.8.2"
  }
 },
 "nbformat": 4,
 "nbformat_minor": 4
}
