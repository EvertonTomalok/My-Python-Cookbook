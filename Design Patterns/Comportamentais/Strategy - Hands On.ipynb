{
 "cells": [
  {
   "cell_type": "code",
   "execution_count": 1,
   "metadata": {},
   "outputs": [],
   "source": [
    "# !pip3 install nest_asyncio\n",
    "import nest_asyncio\n",
    "\n",
    "nest_asyncio.apply()"
   ]
  },
  {
   "cell_type": "code",
   "execution_count": 2,
   "metadata": {},
   "outputs": [
    {
     "data": {
      "text/plain": [
       "Nome: Seu Zé\n",
       "Salario bruto: 4000.0\n",
       "Débito: 100.0\n",
       "Salario_liquido: 4000.0"
      ]
     },
     "execution_count": 2,
     "metadata": {},
     "output_type": "execute_result"
    }
   ],
   "source": [
    "import asyncio\n",
    "import random\n",
    "\n",
    "\n",
    "class Client:\n",
    "    __salario_liquido: float = 0\n",
    "    __salario_bruto: float = 0\n",
    "    __debito: float = 0\n",
    "    \n",
    "    \n",
    "    def __init__(self, nome: str, cpf = str):\n",
    "        self.__nome = nome\n",
    "        self.__cpf = cpf\n",
    "        loop = asyncio.get_event_loop()\n",
    "        self.__salario_bruto, self.__debito = loop.run_until_complete(\n",
    "            asyncio.gather(self._get_salario(), self._get_debito())\n",
    "        )\n",
    "        self.salario_liquido = self.salario_bruto\n",
    "        \n",
    "    @property\n",
    "    def nome(self):\n",
    "        return self.__nome\n",
    "    \n",
    "    @property\n",
    "    def cpf(self):\n",
    "        return self.__cpf\n",
    "    \n",
    "    @property\n",
    "    def salario_bruto(self):\n",
    "        return self.__salario_bruto\n",
    "    \n",
    "    @property\n",
    "    def debito(self):\n",
    "        return self.__debito\n",
    "    \n",
    "    @property\n",
    "    def salario_liquido(self):\n",
    "        return self.__salario_liquido\n",
    "    \n",
    "    @salario_liquido.setter\n",
    "    def salario_liquido(self, new_value: bool):\n",
    "        self.__salario_liquido = new_value\n",
    "         \n",
    "    async def _get_salario(self):\n",
    "        url = f\"http://endpoint.com/getsalario/{self.cpf}\"\n",
    "        # simulating a request to another api\n",
    "        # request.get(url + f\"/{self.cpf}\")\n",
    "        await asyncio.sleep(.3)\n",
    "        \n",
    "        random.seed(900)\n",
    "        return 4000.00 if self.cpf == \"123.456.789-00\" else float(random.randint(1000, 8000))\n",
    "    \n",
    "    async def _get_debito(self):\n",
    "        url = f\"http://endpoint.com/getdebito/{self.cpf}\"\n",
    "        # simulating a request to another api\n",
    "        # request.get(url + f\"/{self.cpf}\")\n",
    "        await asyncio.sleep(.3)\n",
    "        \n",
    "        random.seed(900)\n",
    "        return 100.00 if self.cpf == \"123.456.789-00\" else float(random.randint(0, 200))\n",
    "        \n",
    "        \n",
    "    def __repr__(self):\n",
    "        return (\n",
    "            f\"Nome: {self.nome}\\n\"\n",
    "            f\"Salario bruto: {self.__salario_bruto}\\n\"\n",
    "            f\"Débito: {self.debito}\\n\"\n",
    "            f\"Salario_liquido: {round(self.salario_liquido, 2)}\"\n",
    "        )\n",
    "    \n",
    "ze = Client(\"Seu Zé\", \"123.456.789-00\")\n",
    "ze"
   ]
  },
  {
   "cell_type": "code",
   "execution_count": 3,
   "metadata": {},
   "outputs": [
    {
     "name": "stdout",
     "output_type": "stream",
     "text": [
      "Nome: Seu Zé\n",
      "Salario bruto: 4000.0\n",
      "Débito: 100.0\n",
      "Salario_liquido: 3680.0\n",
      "\n",
      "Nome: Seu Zé\n",
      "Salario bruto: 4000.0\n",
      "Débito: 100.0\n",
      "Salario_liquido: 3459.2\n",
      "\n",
      "Nome: Seu Zé\n",
      "Salario bruto: 4000.0\n",
      "Débito: 100.0\n",
      "Salario_liquido: 3359.2\n",
      "\n"
     ]
    }
   ],
   "source": [
    "from abc import ABC, abstractmethod\n",
    "\n",
    "\n",
    "class Interface:\n",
    "    @abstractmethod\n",
    "    def calculate(self, client: Client):\n",
    "        pass\n",
    "    \n",
    "    \n",
    "class INSS(Interface):\n",
    "    def __init__(self, taxa=0.08):\n",
    "        self.taxa = taxa\n",
    "        \n",
    "    def calculate(self, client: Client):\n",
    "        client.salario_liquido -= (client.salario_liquido * self.taxa)\n",
    "        \n",
    "        \n",
    "class IR(Interface):\n",
    "    def __init__(self, taxa=0.06):\n",
    "        self.taxa = taxa\n",
    "        \n",
    "    def calculate(self, client: Client):\n",
    "        client.salario_liquido -= (client.salario_liquido * self.taxa)\n",
    "        \n",
    "        \n",
    "class PagarDebito(Interface):\n",
    "    def calculate(self, client: Client):\n",
    "        client.salario_liquido -= client.debito\n",
    "        \n",
    "INSS().calculate(ze)\n",
    "print(ze, end=\"\\n\\n\")\n",
    "\n",
    "IR().calculate(ze)\n",
    "print(ze, end=\"\\n\\n\")\n",
    "\n",
    "PagarDebito().calculate(ze)\n",
    "print(ze, end=\"\\n\\n\")"
   ]
  },
  {
   "cell_type": "markdown",
   "metadata": {},
   "source": [
    "# Transformando em pipeline"
   ]
  },
  {
   "cell_type": "code",
   "execution_count": 4,
   "metadata": {},
   "outputs": [],
   "source": [
    "class Calculator:\n",
    "    def calcular(self, client, strategy):\n",
    "        strategy.calculate(client)"
   ]
  },
  {
   "cell_type": "code",
   "execution_count": 5,
   "metadata": {},
   "outputs": [
    {
     "data": {
      "text/plain": [
       "Nome: Chiquinha\n",
       "Salario bruto: 6112.0\n",
       "Débito: 159.0\n",
       "Salario_liquido: 6112.0"
      ]
     },
     "execution_count": 5,
     "metadata": {},
     "output_type": "execute_result"
    }
   ],
   "source": [
    "chiquinha = Client(\"Chiquinha\", cpf=\"123.456.789-01\")\n",
    "chiquinha"
   ]
  },
  {
   "cell_type": "code",
   "execution_count": 6,
   "metadata": {},
   "outputs": [
    {
     "data": {
      "text/plain": [
       "Nome: Chiquinha\n",
       "Salario bruto: 6112.0\n",
       "Débito: 159.0\n",
       "Salario_liquido: 5126.66"
      ]
     },
     "execution_count": 6,
     "metadata": {},
     "output_type": "execute_result"
    }
   ],
   "source": [
    "calculator = Calculator()\n",
    "\n",
    "for policy in [INSS(), IR(), PagarDebito()]:\n",
    "    calculator.calcular(chiquinha, policy)\n",
    "\n",
    "chiquinha"
   ]
  }
 ],
 "metadata": {
  "kernelspec": {
   "display_name": "Python 3",
   "language": "python",
   "name": "python3"
  },
  "language_info": {
   "codemirror_mode": {
    "name": "ipython",
    "version": 3
   },
   "file_extension": ".py",
   "mimetype": "text/x-python",
   "name": "python",
   "nbconvert_exporter": "python",
   "pygments_lexer": "ipython3",
   "version": "3.8.2"
  }
 },
 "nbformat": 4,
 "nbformat_minor": 4
}
